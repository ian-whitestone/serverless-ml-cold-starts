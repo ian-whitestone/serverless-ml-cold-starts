{
 "cells": [
  {
   "cell_type": "code",
   "execution_count": 6,
   "id": "72ff5d95",
   "metadata": {
    "execution": {
     "iopub.execute_input": "2021-07-25T19:59:26.345640Z",
     "iopub.status.busy": "2021-07-25T19:59:26.345382Z",
     "iopub.status.idle": "2021-07-25T19:59:26.353460Z",
     "shell.execute_reply": "2021-07-25T19:59:26.348206Z",
     "shell.execute_reply.started": "2021-07-25T19:59:26.345617Z"
    },
    "tags": []
   },
   "outputs": [],
   "source": [
    "import time\n",
    "\n",
    "import pickle\n",
    "from joblib import dump, load\n",
    "\n",
    "import pandas as pd\n",
    "\n",
    "from sklearn.ensemble import GradientBoostingClassifier\n",
    "from sklearn.model_selection import train_test_split"
   ]
  },
  {
   "cell_type": "code",
   "execution_count": 4,
   "id": "65bf6428",
   "metadata": {
    "execution": {
     "iopub.execute_input": "2021-07-24T16:57:53.139744Z",
     "iopub.status.busy": "2021-07-24T16:57:53.139470Z",
     "iopub.status.idle": "2021-07-24T16:57:53.246191Z",
     "shell.execute_reply": "2021-07-24T16:57:53.245541Z",
     "shell.execute_reply.started": "2021-07-24T16:57:53.139716Z"
    },
    "tags": []
   },
   "outputs": [],
   "source": [
    "# https://raw.githubusercontent.com/jbrownlee/Datasets/master/adult-all.csv\n",
    "# https://archive.ics.uci.edu/ml/datasets/Adult \n",
    "# adult-all is a combination of adult.data and test.test\n",
    "names = [\n",
    "    'age',\n",
    "    'workclass',\n",
    "    'fnlwgt',\n",
    "    'education',\n",
    "    'education_num',\n",
    "    'marital_status',\n",
    "    'occupation',\n",
    "    'relationship',\n",
    "    'race',\n",
    "    'sex',\n",
    "    'capital_gain',\n",
    "    'capital_loss',\n",
    "    'hours_per_week',\n",
    "    'native_country',\n",
    "    'income'\n",
    "]\n",
    "df = pd.read_csv('data.csv', header=None, names=names)"
   ]
  },
  {
   "cell_type": "code",
   "execution_count": 5,
   "id": "b2899036",
   "metadata": {
    "execution": {
     "iopub.execute_input": "2021-07-24T16:57:53.247563Z",
     "iopub.status.busy": "2021-07-24T16:57:53.247334Z",
     "iopub.status.idle": "2021-07-24T16:57:53.274858Z",
     "shell.execute_reply": "2021-07-24T16:57:53.274108Z",
     "shell.execute_reply.started": "2021-07-24T16:57:53.247541Z"
    },
    "tags": []
   },
   "outputs": [
    {
     "data": {
      "text/html": [
       "<div>\n",
       "<style scoped>\n",
       "    .dataframe tbody tr th:only-of-type {\n",
       "        vertical-align: middle;\n",
       "    }\n",
       "\n",
       "    .dataframe tbody tr th {\n",
       "        vertical-align: top;\n",
       "    }\n",
       "\n",
       "    .dataframe thead th {\n",
       "        text-align: right;\n",
       "    }\n",
       "</style>\n",
       "<table border=\"1\" class=\"dataframe\">\n",
       "  <thead>\n",
       "    <tr style=\"text-align: right;\">\n",
       "      <th></th>\n",
       "      <th>age</th>\n",
       "      <th>workclass</th>\n",
       "      <th>fnlwgt</th>\n",
       "      <th>education</th>\n",
       "      <th>education_num</th>\n",
       "      <th>marital_status</th>\n",
       "      <th>occupation</th>\n",
       "      <th>relationship</th>\n",
       "      <th>race</th>\n",
       "      <th>sex</th>\n",
       "      <th>capital_gain</th>\n",
       "      <th>capital_loss</th>\n",
       "      <th>hours_per_week</th>\n",
       "      <th>native_country</th>\n",
       "      <th>income</th>\n",
       "    </tr>\n",
       "  </thead>\n",
       "  <tbody>\n",
       "    <tr>\n",
       "      <th>0</th>\n",
       "      <td>39</td>\n",
       "      <td>State-gov</td>\n",
       "      <td>77516</td>\n",
       "      <td>Bachelors</td>\n",
       "      <td>13</td>\n",
       "      <td>Never-married</td>\n",
       "      <td>Adm-clerical</td>\n",
       "      <td>Not-in-family</td>\n",
       "      <td>White</td>\n",
       "      <td>Male</td>\n",
       "      <td>2174</td>\n",
       "      <td>0</td>\n",
       "      <td>40</td>\n",
       "      <td>United-States</td>\n",
       "      <td>&lt;=50K</td>\n",
       "    </tr>\n",
       "    <tr>\n",
       "      <th>1</th>\n",
       "      <td>50</td>\n",
       "      <td>Self-emp-not-inc</td>\n",
       "      <td>83311</td>\n",
       "      <td>Bachelors</td>\n",
       "      <td>13</td>\n",
       "      <td>Married-civ-spouse</td>\n",
       "      <td>Exec-managerial</td>\n",
       "      <td>Husband</td>\n",
       "      <td>White</td>\n",
       "      <td>Male</td>\n",
       "      <td>0</td>\n",
       "      <td>0</td>\n",
       "      <td>13</td>\n",
       "      <td>United-States</td>\n",
       "      <td>&lt;=50K</td>\n",
       "    </tr>\n",
       "    <tr>\n",
       "      <th>2</th>\n",
       "      <td>38</td>\n",
       "      <td>Private</td>\n",
       "      <td>215646</td>\n",
       "      <td>HS-grad</td>\n",
       "      <td>9</td>\n",
       "      <td>Divorced</td>\n",
       "      <td>Handlers-cleaners</td>\n",
       "      <td>Not-in-family</td>\n",
       "      <td>White</td>\n",
       "      <td>Male</td>\n",
       "      <td>0</td>\n",
       "      <td>0</td>\n",
       "      <td>40</td>\n",
       "      <td>United-States</td>\n",
       "      <td>&lt;=50K</td>\n",
       "    </tr>\n",
       "    <tr>\n",
       "      <th>3</th>\n",
       "      <td>53</td>\n",
       "      <td>Private</td>\n",
       "      <td>234721</td>\n",
       "      <td>11th</td>\n",
       "      <td>7</td>\n",
       "      <td>Married-civ-spouse</td>\n",
       "      <td>Handlers-cleaners</td>\n",
       "      <td>Husband</td>\n",
       "      <td>Black</td>\n",
       "      <td>Male</td>\n",
       "      <td>0</td>\n",
       "      <td>0</td>\n",
       "      <td>40</td>\n",
       "      <td>United-States</td>\n",
       "      <td>&lt;=50K</td>\n",
       "    </tr>\n",
       "    <tr>\n",
       "      <th>4</th>\n",
       "      <td>28</td>\n",
       "      <td>Private</td>\n",
       "      <td>338409</td>\n",
       "      <td>Bachelors</td>\n",
       "      <td>13</td>\n",
       "      <td>Married-civ-spouse</td>\n",
       "      <td>Prof-specialty</td>\n",
       "      <td>Wife</td>\n",
       "      <td>Black</td>\n",
       "      <td>Female</td>\n",
       "      <td>0</td>\n",
       "      <td>0</td>\n",
       "      <td>40</td>\n",
       "      <td>Cuba</td>\n",
       "      <td>&lt;=50K</td>\n",
       "    </tr>\n",
       "  </tbody>\n",
       "</table>\n",
       "</div>"
      ],
      "text/plain": [
       "   age         workclass  fnlwgt  education  education_num  \\\n",
       "0   39         State-gov   77516  Bachelors             13   \n",
       "1   50  Self-emp-not-inc   83311  Bachelors             13   \n",
       "2   38           Private  215646    HS-grad              9   \n",
       "3   53           Private  234721       11th              7   \n",
       "4   28           Private  338409  Bachelors             13   \n",
       "\n",
       "       marital_status         occupation   relationship   race     sex  \\\n",
       "0       Never-married       Adm-clerical  Not-in-family  White    Male   \n",
       "1  Married-civ-spouse    Exec-managerial        Husband  White    Male   \n",
       "2            Divorced  Handlers-cleaners  Not-in-family  White    Male   \n",
       "3  Married-civ-spouse  Handlers-cleaners        Husband  Black    Male   \n",
       "4  Married-civ-spouse     Prof-specialty           Wife  Black  Female   \n",
       "\n",
       "   capital_gain  capital_loss  hours_per_week native_country income  \n",
       "0          2174             0              40  United-States  <=50K  \n",
       "1             0             0              13  United-States  <=50K  \n",
       "2             0             0              40  United-States  <=50K  \n",
       "3             0             0              40  United-States  <=50K  \n",
       "4             0             0              40           Cuba  <=50K  "
      ]
     },
     "execution_count": 5,
     "metadata": {},
     "output_type": "execute_result"
    }
   ],
   "source": [
    "df.head()"
   ]
  },
  {
   "cell_type": "code",
   "execution_count": 10,
   "id": "26cbafff",
   "metadata": {
    "execution": {
     "iopub.execute_input": "2021-07-24T16:58:35.875168Z",
     "iopub.status.busy": "2021-07-24T16:58:35.874730Z",
     "iopub.status.idle": "2021-07-24T16:58:35.891323Z",
     "shell.execute_reply": "2021-07-24T16:58:35.889850Z",
     "shell.execute_reply.started": "2021-07-24T16:58:35.875145Z"
    },
    "tags": []
   },
   "outputs": [
    {
     "data": {
      "text/plain": [
       "<=50K    37155\n",
       ">50K     11687\n",
       "Name: income, dtype: int64"
      ]
     },
     "execution_count": 10,
     "metadata": {},
     "output_type": "execute_result"
    }
   ],
   "source": [
    "df['income'].value_counts()"
   ]
  },
  {
   "cell_type": "code",
   "execution_count": 11,
   "id": "642077ed",
   "metadata": {
    "execution": {
     "iopub.execute_input": "2021-07-24T16:58:36.405731Z",
     "iopub.status.busy": "2021-07-24T16:58:36.405447Z",
     "iopub.status.idle": "2021-07-24T16:58:36.425986Z",
     "shell.execute_reply": "2021-07-24T16:58:36.423433Z",
     "shell.execute_reply.started": "2021-07-24T16:58:36.405705Z"
    },
    "tags": []
   },
   "outputs": [],
   "source": [
    "df['target'] = 0\n",
    "df.loc[df['income'] == '>50K', 'target'] = 1"
   ]
  },
  {
   "cell_type": "code",
   "execution_count": 12,
   "id": "e26ce659",
   "metadata": {
    "execution": {
     "iopub.execute_input": "2021-07-24T16:58:36.724919Z",
     "iopub.status.busy": "2021-07-24T16:58:36.724644Z",
     "iopub.status.idle": "2021-07-24T16:58:36.751548Z",
     "shell.execute_reply": "2021-07-24T16:58:36.744715Z",
     "shell.execute_reply.started": "2021-07-24T16:58:36.724896Z"
    },
    "tags": []
   },
   "outputs": [
    {
     "data": {
      "text/plain": [
       "0    37155\n",
       "1    11687\n",
       "Name: target, dtype: int64"
      ]
     },
     "execution_count": 12,
     "metadata": {},
     "output_type": "execute_result"
    }
   ],
   "source": [
    "df['target'].value_counts()"
   ]
  },
  {
   "cell_type": "code",
   "execution_count": 13,
   "id": "407c22c1",
   "metadata": {
    "execution": {
     "iopub.execute_input": "2021-07-24T16:58:37.931989Z",
     "iopub.status.busy": "2021-07-24T16:58:37.931630Z",
     "iopub.status.idle": "2021-07-24T16:58:37.958177Z",
     "shell.execute_reply": "2021-07-24T16:58:37.954799Z",
     "shell.execute_reply.started": "2021-07-24T16:58:37.931957Z"
    },
    "tags": []
   },
   "outputs": [],
   "source": [
    "features = [\n",
    "    'age', \n",
    "    'fnlwgt', \n",
    "    'education_num', \n",
    "    'capital_gain', \n",
    "    'capital_loss', \n",
    "    'hours_per_week'\n",
    "]\n",
    "\n",
    "X = df[features]\n",
    "y = df.target"
   ]
  },
  {
   "cell_type": "code",
   "execution_count": 14,
   "id": "47cfd749",
   "metadata": {
    "execution": {
     "iopub.execute_input": "2021-07-24T16:58:38.820340Z",
     "iopub.status.busy": "2021-07-24T16:58:38.819845Z",
     "iopub.status.idle": "2021-07-24T16:58:38.845868Z",
     "shell.execute_reply": "2021-07-24T16:58:38.845141Z",
     "shell.execute_reply.started": "2021-07-24T16:58:38.820304Z"
    },
    "tags": []
   },
   "outputs": [],
   "source": [
    "X_train, X_test, y_train, y_test = train_test_split(X, y, test_size=0.33, random_state=42)"
   ]
  },
  {
   "cell_type": "code",
   "execution_count": 25,
   "id": "72aaa7a4",
   "metadata": {
    "execution": {
     "iopub.execute_input": "2021-07-23T23:39:31.907385Z",
     "iopub.status.busy": "2021-07-23T23:39:31.905938Z",
     "iopub.status.idle": "2021-07-23T23:50:43.650278Z",
     "shell.execute_reply": "2021-07-23T23:50:43.649429Z",
     "shell.execute_reply.started": "2021-07-23T23:39:31.907324Z"
    },
    "tags": []
   },
   "outputs": [],
   "source": [
    "clf = GradientBoostingClassifier(\n",
    "    n_estimators=2000, \n",
    "    learning_rate=1.0,\n",
    "    max_depth=20, \n",
    "    random_state=0\n",
    ")\n",
    "\n",
    "clf = clf.fit(X_train, y_train)"
   ]
  },
  {
   "cell_type": "code",
   "execution_count": 15,
   "id": "0776268b",
   "metadata": {
    "execution": {
     "iopub.execute_input": "2021-07-24T16:58:41.967618Z",
     "iopub.status.busy": "2021-07-24T16:58:41.966945Z",
     "iopub.status.idle": "2021-07-24T16:58:46.830561Z",
     "shell.execute_reply": "2021-07-24T16:58:46.829742Z",
     "shell.execute_reply.started": "2021-07-24T16:58:41.967584Z"
    },
    "tags": []
   },
   "outputs": [
    {
     "data": {
      "text/plain": [
       "array([0, 0, 0, ..., 1, 0, 0])"
      ]
     },
     "execution_count": 15,
     "metadata": {},
     "output_type": "execute_result"
    }
   ],
   "source": [
    "clf.predict(X_test)"
   ]
  },
  {
   "cell_type": "code",
   "execution_count": 17,
   "id": "3e1ffc68",
   "metadata": {
    "execution": {
     "iopub.execute_input": "2021-07-24T16:58:55.634962Z",
     "iopub.status.busy": "2021-07-24T16:58:55.634654Z",
     "iopub.status.idle": "2021-07-24T16:58:55.648007Z",
     "shell.execute_reply": "2021-07-24T16:58:55.647078Z",
     "shell.execute_reply.started": "2021-07-24T16:58:55.634935Z"
    },
    "tags": []
   },
   "outputs": [
    {
     "data": {
      "text/plain": [
       "1.329539649746285e-32"
      ]
     },
     "execution_count": 17,
     "metadata": {},
     "output_type": "execute_result"
    }
   ],
   "source": [
    "input_data = dict(X_test.iloc[11])\n",
    "\n",
    "# clf.predict([[input_data[feature] for feature in features]])\n",
    "clf.predict_proba([[input_data[feature] for feature in features]])[0][1]"
   ]
  },
  {
   "cell_type": "code",
   "execution_count": 22,
   "id": "28f9c0a9",
   "metadata": {
    "execution": {
     "iopub.execute_input": "2021-07-24T16:59:16.638242Z",
     "iopub.status.busy": "2021-07-24T16:59:16.637027Z",
     "iopub.status.idle": "2021-07-24T16:59:19.315313Z",
     "shell.execute_reply": "2021-07-24T16:59:19.314627Z",
     "shell.execute_reply.started": "2021-07-24T16:59:16.638194Z"
    },
    "tags": []
   },
   "outputs": [
    {
     "name": "stdout",
     "output_type": "stream",
     "text": [
      "CPU times: user 2.57 s, sys: 28.2 ms, total: 2.6 s\n",
      "Wall time: 2.67 s\n"
     ]
    }
   ],
   "source": [
    "%time x = [clf.predict_proba([[input_data[feature] for feature in features]])[0][1] for _ in range(1000)]"
   ]
  },
  {
   "cell_type": "code",
   "execution_count": 12,
   "id": "fe05f5f3",
   "metadata": {
    "execution": {
     "iopub.execute_input": "2021-07-23T23:37:25.219880Z",
     "iopub.status.busy": "2021-07-23T23:37:25.219480Z",
     "iopub.status.idle": "2021-07-23T23:37:25.226510Z",
     "shell.execute_reply": "2021-07-23T23:37:25.225639Z",
     "shell.execute_reply.started": "2021-07-23T23:37:25.219843Z"
    },
    "tags": []
   },
   "outputs": [
    {
     "data": {
      "text/plain": [
       "{'age': 34,\n",
       " 'fnlwgt': 261799,\n",
       " 'education_num': 11,\n",
       " 'capital_gain': 0,\n",
       " 'capital_loss': 0,\n",
       " 'hours_per_week': 45}"
      ]
     },
     "execution_count": 12,
     "metadata": {},
     "output_type": "execute_result"
    }
   ],
   "source": [
    "input_data"
   ]
  },
  {
   "cell_type": "code",
   "execution_count": 29,
   "id": "e45de574",
   "metadata": {
    "execution": {
     "iopub.execute_input": "2021-07-23T23:50:47.575877Z",
     "iopub.status.busy": "2021-07-23T23:50:47.575577Z",
     "iopub.status.idle": "2021-07-23T23:50:56.953131Z",
     "shell.execute_reply": "2021-07-23T23:50:56.952425Z",
     "shell.execute_reply.started": "2021-07-23T23:50:47.575854Z"
    },
    "tags": []
   },
   "outputs": [],
   "source": [
    "with open('model_v3.pkl', \"wb\") as f_out:\n",
    "    pickle.dump(clf, f_out)"
   ]
  },
  {
   "cell_type": "code",
   "execution_count": 30,
   "id": "10936f97",
   "metadata": {
    "execution": {
     "iopub.execute_input": "2021-07-23T23:50:56.954696Z",
     "iopub.status.busy": "2021-07-23T23:50:56.954308Z",
     "iopub.status.idle": "2021-07-23T23:51:25.038769Z",
     "shell.execute_reply": "2021-07-23T23:51:25.037448Z",
     "shell.execute_reply.started": "2021-07-23T23:50:56.954662Z"
    },
    "tags": []
   },
   "outputs": [
    {
     "data": {
      "text/plain": [
       "['model_v3.joblib']"
      ]
     },
     "execution_count": 30,
     "metadata": {},
     "output_type": "execute_result"
    }
   ],
   "source": [
    "dump(clf, 'model_v3.joblib') "
   ]
  },
  {
   "cell_type": "code",
   "execution_count": 2,
   "id": "e857d0ea",
   "metadata": {
    "execution": {
     "iopub.execute_input": "2021-07-24T17:01:40.296246Z",
     "iopub.status.busy": "2021-07-24T17:01:40.295974Z",
     "iopub.status.idle": "2021-07-24T17:01:48.438722Z",
     "shell.execute_reply": "2021-07-24T17:01:48.437836Z",
     "shell.execute_reply.started": "2021-07-24T17:01:40.296221Z"
    },
    "tags": []
   },
   "outputs": [
    {
     "name": "stdout",
     "output_type": "stream",
     "text": [
      "CPU times: user 3.91 s, sys: 3.1 s, total: 7 s\n",
      "Wall time: 8.14 s\n"
     ]
    }
   ],
   "source": [
    "%time x = [load('model_v3.joblib') for _ in range(1)]"
   ]
  },
  {
   "cell_type": "code",
   "execution_count": 10,
   "id": "0de705f7",
   "metadata": {
    "execution": {
     "iopub.execute_input": "2021-07-25T20:02:27.117900Z",
     "iopub.status.busy": "2021-07-25T20:02:27.117450Z",
     "iopub.status.idle": "2021-07-25T20:02:37.269630Z",
     "shell.execute_reply": "2021-07-25T20:02:37.268996Z",
     "shell.execute_reply.started": "2021-07-25T20:02:27.117873Z"
    },
    "tags": []
   },
   "outputs": [
    {
     "name": "stdout",
     "output_type": "stream",
     "text": [
      "Model v1 from pickle\n",
      "Total load time for 10 loads: 2898 ms, avg_load_time: 289 ms\n",
      "Model v1 from joblib\n",
      "Total load time for 10 loads: 7246 ms, avg_load_time: 724 ms\n"
     ]
    }
   ],
   "source": [
    "import time\n",
    "import pickle\n",
    "from joblib import load\n",
    "\n",
    "def load_pickled_model(filepath):\n",
    "    with open(filepath, \"rb\") as f_in:\n",
    "        pickle.loads(f_in.read())\n",
    "\n",
    "def timed_load(model_version_num, source, num_iterations):\n",
    "    if source == 'pickle':\n",
    "        load_func = load_pickled_model \n",
    "        filepath = f'model_v{model_version_num}.pkl'\n",
    "    elif source == 'joblib':\n",
    "        load_func = load\n",
    "        filepath = f'model_v{model_version_num}.joblib'\n",
    "    else:\n",
    "        raise ValueError('source must be pickle or joblib')\n",
    "    \n",
    "    start = time.time()\n",
    "    for x in range(0, num_iterations):\n",
    "        load_func(filepath)\n",
    "    end = time.time()\n",
    "    t = (end-start)*1000\n",
    "    print(\n",
    "        f'Model v{model_version_num} from {source}\\n'\n",
    "        f'Total load time for {num_iterations} loads: {int(t)} ms, avg_load_time: {int(t/num_iterations)} ms'\n",
    "    )\n",
    "\n",
    "timed_load(1, 'pickle', 10)\n",
    "timed_load(1, 'joblib', 10)"
   ]
  },
  {
   "cell_type": "code",
   "execution_count": 11,
   "id": "0949f7d4",
   "metadata": {
    "execution": {
     "iopub.execute_input": "2021-07-25T20:02:54.037724Z",
     "iopub.status.busy": "2021-07-25T20:02:54.037370Z",
     "iopub.status.idle": "2021-07-25T20:03:31.318601Z",
     "shell.execute_reply": "2021-07-25T20:03:31.317007Z",
     "shell.execute_reply.started": "2021-07-25T20:02:54.037694Z"
    }
   },
   "outputs": [
    {
     "name": "stdout",
     "output_type": "stream",
     "text": [
      "Model v2 from pickle\n",
      "Total load time for 10 loads: 13103 ms, avg_load_time: 1310 ms\n",
      "Model v2 from joblib\n",
      "Total load time for 10 loads: 24164 ms, avg_load_time: 2416 ms\n"
     ]
    }
   ],
   "source": [
    "timed_load(2, 'pickle', 10)\n",
    "timed_load(2, 'joblib', 10)"
   ]
  },
  {
   "cell_type": "code",
   "execution_count": 12,
   "id": "78c4c8ac-0e8f-429b-8041-53096bc9391d",
   "metadata": {
    "execution": {
     "iopub.execute_input": "2021-07-25T20:03:36.748188Z",
     "iopub.status.busy": "2021-07-25T20:03:36.747780Z",
     "iopub.status.idle": "2021-07-25T20:03:55.167795Z",
     "shell.execute_reply": "2021-07-25T20:03:55.167086Z",
     "shell.execute_reply.started": "2021-07-25T20:03:36.748153Z"
    }
   },
   "outputs": [
    {
     "name": "stdout",
     "output_type": "stream",
     "text": [
      "Model v2 from pickle\n",
      "Total load time for 5 loads: 5357 ms, avg_load_time: 1071 ms\n",
      "Model v2 from joblib\n",
      "Total load time for 5 loads: 13056 ms, avg_load_time: 2611 ms\n"
     ]
    }
   ],
   "source": [
    "timed_load(2, 'pickle', 5)\n",
    "timed_load(2, 'joblib', 5)"
   ]
  },
  {
   "cell_type": "code",
   "execution_count": null,
   "id": "f9caeb2c-e8c8-47e3-b7ab-946e58150378",
   "metadata": {},
   "outputs": [],
   "source": []
  }
 ],
 "metadata": {
  "kernelspec": {
   "display_name": "Python 3 (ipykernel)",
   "language": "python",
   "name": "python3"
  },
  "language_info": {
   "codemirror_mode": {
    "name": "ipython",
    "version": 3
   },
   "file_extension": ".py",
   "mimetype": "text/x-python",
   "name": "python",
   "nbconvert_exporter": "python",
   "pygments_lexer": "ipython3",
   "version": "3.8.8"
  }
 },
 "nbformat": 4,
 "nbformat_minor": 5
}
