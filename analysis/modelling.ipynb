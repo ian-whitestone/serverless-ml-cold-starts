{
 "cells": [
  {
   "cell_type": "code",
   "execution_count": 1,
   "id": "27907305",
   "metadata": {
    "execution": {
     "iopub.execute_input": "2021-07-17T14:47:18.708373Z",
     "iopub.status.busy": "2021-07-17T14:47:18.705684Z",
     "iopub.status.idle": "2021-07-17T14:47:44.629312Z",
     "shell.execute_reply": "2021-07-17T14:47:44.628436Z",
     "shell.execute_reply.started": "2021-07-17T14:47:18.707087Z"
    },
    "tags": []
   },
   "outputs": [],
   "source": [
    "import pickle\n",
    "from joblib import dump, load\n",
    "\n",
    "import pandas as pd\n",
    "\n",
    "from sklearn.ensemble import GradientBoostingClassifier\n",
    "from sklearn.model_selection import train_test_split"
   ]
  },
  {
   "cell_type": "code",
   "execution_count": 2,
   "id": "2c90cd3b",
   "metadata": {
    "execution": {
     "iopub.execute_input": "2021-07-17T14:47:44.632422Z",
     "iopub.status.busy": "2021-07-17T14:47:44.631360Z",
     "iopub.status.idle": "2021-07-17T14:47:44.789824Z",
     "shell.execute_reply": "2021-07-17T14:47:44.788834Z",
     "shell.execute_reply.started": "2021-07-17T14:47:44.632379Z"
    },
    "tags": []
   },
   "outputs": [],
   "source": [
    "# https://raw.githubusercontent.com/jbrownlee/Datasets/master/adult-all.csv\n",
    "# https://archive.ics.uci.edu/ml/datasets/Adult \n",
    "# adult-all is a combination of adult.data and test.test\n",
    "names = [\n",
    "    'age',\n",
    "    'workclass',\n",
    "    'fnlwgt',\n",
    "    'education',\n",
    "    'education_num',\n",
    "    'marital_status',\n",
    "    'occupation',\n",
    "    'relationship',\n",
    "    'race',\n",
    "    'sex',\n",
    "    'capital_gain',\n",
    "    'capital_loss',\n",
    "    'hours_per_week',\n",
    "    'native_country',\n",
    "    'income'\n",
    "]\n",
    "df = pd.read_csv('data.csv', header=None, names=names)"
   ]
  },
  {
   "cell_type": "code",
   "execution_count": 3,
   "id": "5d67e5c7",
   "metadata": {
    "execution": {
     "iopub.execute_input": "2021-07-17T14:47:44.791670Z",
     "iopub.status.busy": "2021-07-17T14:47:44.790952Z",
     "iopub.status.idle": "2021-07-17T14:47:44.845967Z",
     "shell.execute_reply": "2021-07-17T14:47:44.843340Z",
     "shell.execute_reply.started": "2021-07-17T14:47:44.791642Z"
    },
    "tags": []
   },
   "outputs": [
    {
     "data": {
      "text/html": [
       "<div>\n",
       "<style scoped>\n",
       "    .dataframe tbody tr th:only-of-type {\n",
       "        vertical-align: middle;\n",
       "    }\n",
       "\n",
       "    .dataframe tbody tr th {\n",
       "        vertical-align: top;\n",
       "    }\n",
       "\n",
       "    .dataframe thead th {\n",
       "        text-align: right;\n",
       "    }\n",
       "</style>\n",
       "<table border=\"1\" class=\"dataframe\">\n",
       "  <thead>\n",
       "    <tr style=\"text-align: right;\">\n",
       "      <th></th>\n",
       "      <th>age</th>\n",
       "      <th>workclass</th>\n",
       "      <th>fnlwgt</th>\n",
       "      <th>education</th>\n",
       "      <th>education_num</th>\n",
       "      <th>marital_status</th>\n",
       "      <th>occupation</th>\n",
       "      <th>relationship</th>\n",
       "      <th>race</th>\n",
       "      <th>sex</th>\n",
       "      <th>capital_gain</th>\n",
       "      <th>capital_loss</th>\n",
       "      <th>hours_per_week</th>\n",
       "      <th>native_country</th>\n",
       "      <th>income</th>\n",
       "    </tr>\n",
       "  </thead>\n",
       "  <tbody>\n",
       "    <tr>\n",
       "      <th>0</th>\n",
       "      <td>39</td>\n",
       "      <td>State-gov</td>\n",
       "      <td>77516</td>\n",
       "      <td>Bachelors</td>\n",
       "      <td>13</td>\n",
       "      <td>Never-married</td>\n",
       "      <td>Adm-clerical</td>\n",
       "      <td>Not-in-family</td>\n",
       "      <td>White</td>\n",
       "      <td>Male</td>\n",
       "      <td>2174</td>\n",
       "      <td>0</td>\n",
       "      <td>40</td>\n",
       "      <td>United-States</td>\n",
       "      <td>&lt;=50K</td>\n",
       "    </tr>\n",
       "    <tr>\n",
       "      <th>1</th>\n",
       "      <td>50</td>\n",
       "      <td>Self-emp-not-inc</td>\n",
       "      <td>83311</td>\n",
       "      <td>Bachelors</td>\n",
       "      <td>13</td>\n",
       "      <td>Married-civ-spouse</td>\n",
       "      <td>Exec-managerial</td>\n",
       "      <td>Husband</td>\n",
       "      <td>White</td>\n",
       "      <td>Male</td>\n",
       "      <td>0</td>\n",
       "      <td>0</td>\n",
       "      <td>13</td>\n",
       "      <td>United-States</td>\n",
       "      <td>&lt;=50K</td>\n",
       "    </tr>\n",
       "    <tr>\n",
       "      <th>2</th>\n",
       "      <td>38</td>\n",
       "      <td>Private</td>\n",
       "      <td>215646</td>\n",
       "      <td>HS-grad</td>\n",
       "      <td>9</td>\n",
       "      <td>Divorced</td>\n",
       "      <td>Handlers-cleaners</td>\n",
       "      <td>Not-in-family</td>\n",
       "      <td>White</td>\n",
       "      <td>Male</td>\n",
       "      <td>0</td>\n",
       "      <td>0</td>\n",
       "      <td>40</td>\n",
       "      <td>United-States</td>\n",
       "      <td>&lt;=50K</td>\n",
       "    </tr>\n",
       "    <tr>\n",
       "      <th>3</th>\n",
       "      <td>53</td>\n",
       "      <td>Private</td>\n",
       "      <td>234721</td>\n",
       "      <td>11th</td>\n",
       "      <td>7</td>\n",
       "      <td>Married-civ-spouse</td>\n",
       "      <td>Handlers-cleaners</td>\n",
       "      <td>Husband</td>\n",
       "      <td>Black</td>\n",
       "      <td>Male</td>\n",
       "      <td>0</td>\n",
       "      <td>0</td>\n",
       "      <td>40</td>\n",
       "      <td>United-States</td>\n",
       "      <td>&lt;=50K</td>\n",
       "    </tr>\n",
       "    <tr>\n",
       "      <th>4</th>\n",
       "      <td>28</td>\n",
       "      <td>Private</td>\n",
       "      <td>338409</td>\n",
       "      <td>Bachelors</td>\n",
       "      <td>13</td>\n",
       "      <td>Married-civ-spouse</td>\n",
       "      <td>Prof-specialty</td>\n",
       "      <td>Wife</td>\n",
       "      <td>Black</td>\n",
       "      <td>Female</td>\n",
       "      <td>0</td>\n",
       "      <td>0</td>\n",
       "      <td>40</td>\n",
       "      <td>Cuba</td>\n",
       "      <td>&lt;=50K</td>\n",
       "    </tr>\n",
       "  </tbody>\n",
       "</table>\n",
       "</div>"
      ],
      "text/plain": [
       "   age         workclass  fnlwgt  education  education_num  \\\n",
       "0   39         State-gov   77516  Bachelors             13   \n",
       "1   50  Self-emp-not-inc   83311  Bachelors             13   \n",
       "2   38           Private  215646    HS-grad              9   \n",
       "3   53           Private  234721       11th              7   \n",
       "4   28           Private  338409  Bachelors             13   \n",
       "\n",
       "       marital_status         occupation   relationship   race     sex  \\\n",
       "0       Never-married       Adm-clerical  Not-in-family  White    Male   \n",
       "1  Married-civ-spouse    Exec-managerial        Husband  White    Male   \n",
       "2            Divorced  Handlers-cleaners  Not-in-family  White    Male   \n",
       "3  Married-civ-spouse  Handlers-cleaners        Husband  Black    Male   \n",
       "4  Married-civ-spouse     Prof-specialty           Wife  Black  Female   \n",
       "\n",
       "   capital_gain  capital_loss  hours_per_week native_country income  \n",
       "0          2174             0              40  United-States  <=50K  \n",
       "1             0             0              13  United-States  <=50K  \n",
       "2             0             0              40  United-States  <=50K  \n",
       "3             0             0              40  United-States  <=50K  \n",
       "4             0             0              40           Cuba  <=50K  "
      ]
     },
     "execution_count": 3,
     "metadata": {},
     "output_type": "execute_result"
    }
   ],
   "source": [
    "df.head()"
   ]
  },
  {
   "cell_type": "code",
   "execution_count": 4,
   "id": "bbc7b3f0",
   "metadata": {
    "execution": {
     "iopub.execute_input": "2021-07-17T14:47:44.855195Z",
     "iopub.status.busy": "2021-07-17T14:47:44.853132Z",
     "iopub.status.idle": "2021-07-17T14:47:44.899652Z",
     "shell.execute_reply": "2021-07-17T14:47:44.898343Z",
     "shell.execute_reply.started": "2021-07-17T14:47:44.855093Z"
    },
    "tags": []
   },
   "outputs": [
    {
     "data": {
      "text/plain": [
       "<=50K    37155\n",
       ">50K     11687\n",
       "Name: income, dtype: int64"
      ]
     },
     "execution_count": 4,
     "metadata": {},
     "output_type": "execute_result"
    }
   ],
   "source": [
    "df['income'].value_counts()"
   ]
  },
  {
   "cell_type": "code",
   "execution_count": 10,
   "id": "11618672",
   "metadata": {
    "execution": {
     "iopub.execute_input": "2021-07-17T14:48:49.245772Z",
     "iopub.status.busy": "2021-07-17T14:48:49.245470Z",
     "iopub.status.idle": "2021-07-17T14:48:49.257775Z",
     "shell.execute_reply": "2021-07-17T14:48:49.253643Z",
     "shell.execute_reply.started": "2021-07-17T14:48:49.245745Z"
    },
    "tags": []
   },
   "outputs": [],
   "source": [
    "df['target'] = 0\n",
    "df.loc[df['income'] == '>50K', 'target'] = 1"
   ]
  },
  {
   "cell_type": "code",
   "execution_count": 11,
   "id": "0d41e109",
   "metadata": {
    "execution": {
     "iopub.execute_input": "2021-07-17T14:48:49.490721Z",
     "iopub.status.busy": "2021-07-17T14:48:49.490200Z",
     "iopub.status.idle": "2021-07-17T14:48:49.516169Z",
     "shell.execute_reply": "2021-07-17T14:48:49.505141Z",
     "shell.execute_reply.started": "2021-07-17T14:48:49.490683Z"
    },
    "tags": []
   },
   "outputs": [
    {
     "data": {
      "text/plain": [
       "0    37155\n",
       "1    11687\n",
       "Name: target, dtype: int64"
      ]
     },
     "execution_count": 11,
     "metadata": {},
     "output_type": "execute_result"
    }
   ],
   "source": [
    "df['target'].value_counts()"
   ]
  },
  {
   "cell_type": "code",
   "execution_count": 12,
   "id": "e7f0468a",
   "metadata": {
    "execution": {
     "iopub.execute_input": "2021-07-17T14:48:49.929469Z",
     "iopub.status.busy": "2021-07-17T14:48:49.928148Z",
     "iopub.status.idle": "2021-07-17T14:48:49.955625Z",
     "shell.execute_reply": "2021-07-17T14:48:49.954299Z",
     "shell.execute_reply.started": "2021-07-17T14:48:49.929425Z"
    },
    "tags": []
   },
   "outputs": [],
   "source": [
    "features = [\n",
    "    'age', \n",
    "    'fnlwgt', \n",
    "    'education_num', \n",
    "    'capital_gain', \n",
    "    'capital_loss', \n",
    "    'hours_per_week'\n",
    "]\n",
    "\n",
    "X = df[features]\n",
    "y = df.target"
   ]
  },
  {
   "cell_type": "code",
   "execution_count": 13,
   "id": "a460127f",
   "metadata": {
    "execution": {
     "iopub.execute_input": "2021-07-17T14:48:50.392259Z",
     "iopub.status.busy": "2021-07-17T14:48:50.391656Z",
     "iopub.status.idle": "2021-07-17T14:48:50.409826Z",
     "shell.execute_reply": "2021-07-17T14:48:50.407240Z",
     "shell.execute_reply.started": "2021-07-17T14:48:50.392220Z"
    },
    "tags": []
   },
   "outputs": [],
   "source": [
    "X_train, X_test, y_train, y_test = train_test_split(X, y, test_size=0.33, random_state=42)"
   ]
  },
  {
   "cell_type": "code",
   "execution_count": 14,
   "id": "ce8200fe",
   "metadata": {
    "execution": {
     "iopub.execute_input": "2021-07-17T14:48:50.852135Z",
     "iopub.status.busy": "2021-07-17T14:48:50.851501Z",
     "iopub.status.idle": "2021-07-17T14:50:47.513268Z",
     "shell.execute_reply": "2021-07-17T14:50:47.511233Z",
     "shell.execute_reply.started": "2021-07-17T14:48:50.852094Z"
    },
    "tags": []
   },
   "outputs": [],
   "source": [
    "clf = GradientBoostingClassifier(\n",
    "    n_estimators=500, learning_rate=1.0,\n",
    "    max_depth=20, random_state=0\n",
    ")\n",
    "\n",
    "clf = clf.fit(X_train, y_train)"
   ]
  },
  {
   "cell_type": "code",
   "execution_count": 15,
   "id": "cd0a7bb0",
   "metadata": {
    "execution": {
     "iopub.execute_input": "2021-07-17T14:50:47.516902Z",
     "iopub.status.busy": "2021-07-17T14:50:47.516612Z",
     "iopub.status.idle": "2021-07-17T14:50:48.298889Z",
     "shell.execute_reply": "2021-07-17T14:50:48.298007Z",
     "shell.execute_reply.started": "2021-07-17T14:50:47.516864Z"
    },
    "tags": []
   },
   "outputs": [
    {
     "data": {
      "text/plain": [
       "array([0, 0, 0, ..., 0, 0, 0])"
      ]
     },
     "execution_count": 15,
     "metadata": {},
     "output_type": "execute_result"
    }
   ],
   "source": [
    "clf.predict(X_test)"
   ]
  },
  {
   "cell_type": "code",
   "execution_count": 16,
   "id": "54783a87",
   "metadata": {
    "execution": {
     "iopub.execute_input": "2021-07-17T14:50:48.300795Z",
     "iopub.status.busy": "2021-07-17T14:50:48.300270Z",
     "iopub.status.idle": "2021-07-17T14:50:48.311929Z",
     "shell.execute_reply": "2021-07-17T14:50:48.310238Z",
     "shell.execute_reply.started": "2021-07-17T14:50:48.300761Z"
    },
    "tags": []
   },
   "outputs": [
    {
     "data": {
      "text/plain": [
       "0.025242329977330145"
      ]
     },
     "execution_count": 16,
     "metadata": {},
     "output_type": "execute_result"
    }
   ],
   "source": [
    "input_data = dict(X_test.iloc[11])\n",
    "\n",
    "# clf.predict([[input_data[feature] for feature in features]])\n",
    "clf.predict_proba([[input_data[feature] for feature in features]])[0][1]"
   ]
  },
  {
   "cell_type": "code",
   "execution_count": 17,
   "id": "97810e67",
   "metadata": {
    "execution": {
     "iopub.execute_input": "2021-07-17T14:50:48.315954Z",
     "iopub.status.busy": "2021-07-17T14:50:48.315600Z",
     "iopub.status.idle": "2021-07-17T14:50:48.331042Z",
     "shell.execute_reply": "2021-07-17T14:50:48.329648Z",
     "shell.execute_reply.started": "2021-07-17T14:50:48.315920Z"
    },
    "tags": []
   },
   "outputs": [
    {
     "data": {
      "text/plain": [
       "{'age': 34,\n",
       " 'fnlwgt': 261799,\n",
       " 'education_num': 11,\n",
       " 'capital_gain': 0,\n",
       " 'capital_loss': 0,\n",
       " 'hours_per_week': 45}"
      ]
     },
     "execution_count": 17,
     "metadata": {},
     "output_type": "execute_result"
    }
   ],
   "source": [
    "input_data"
   ]
  },
  {
   "cell_type": "code",
   "execution_count": 18,
   "id": "b9917224",
   "metadata": {
    "execution": {
     "iopub.execute_input": "2021-07-17T14:50:48.333462Z",
     "iopub.status.busy": "2021-07-17T14:50:48.333000Z",
     "iopub.status.idle": "2021-07-17T14:50:48.883361Z",
     "shell.execute_reply": "2021-07-17T14:50:48.882796Z",
     "shell.execute_reply.started": "2021-07-17T14:50:48.333429Z"
    },
    "tags": []
   },
   "outputs": [],
   "source": [
    "with open('model.pkl', \"wb\") as f_out:\n",
    "    pickle.dump(clf, f_out)"
   ]
  },
  {
   "cell_type": "code",
   "execution_count": 19,
   "id": "dba1ad21",
   "metadata": {
    "execution": {
     "iopub.execute_input": "2021-07-17T14:50:48.885090Z",
     "iopub.status.busy": "2021-07-17T14:50:48.884602Z",
     "iopub.status.idle": "2021-07-17T14:50:50.027314Z",
     "shell.execute_reply": "2021-07-17T14:50:50.026180Z",
     "shell.execute_reply.started": "2021-07-17T14:50:48.884917Z"
    },
    "tags": []
   },
   "outputs": [
    {
     "data": {
      "text/plain": [
       "['model.joblib']"
      ]
     },
     "execution_count": 19,
     "metadata": {},
     "output_type": "execute_result"
    }
   ],
   "source": [
    "dump(clf, 'model.joblib') "
   ]
  },
  {
   "cell_type": "code",
   "execution_count": 22,
   "id": "48d4d63d",
   "metadata": {
    "execution": {
     "iopub.execute_input": "2021-07-17T14:54:38.846861Z",
     "iopub.status.busy": "2021-07-17T14:54:38.846583Z",
     "iopub.status.idle": "2021-07-17T14:54:46.358209Z",
     "shell.execute_reply": "2021-07-17T14:54:46.352908Z",
     "shell.execute_reply.started": "2021-07-17T14:54:38.846836Z"
    },
    "tags": []
   },
   "outputs": [
    {
     "name": "stdout",
     "output_type": "stream",
     "text": [
      "CPU times: user 4.88 s, sys: 2.33 s, total: 7.22 s\n",
      "Wall time: 7.5 s\n"
     ]
    }
   ],
   "source": [
    "%time x = [load('model.joblib') for _ in range(10)]"
   ]
  },
  {
   "cell_type": "code",
   "execution_count": 23,
   "id": "dfd3c7e4",
   "metadata": {
    "execution": {
     "iopub.execute_input": "2021-07-17T14:54:46.371326Z",
     "iopub.status.busy": "2021-07-17T14:54:46.369590Z",
     "iopub.status.idle": "2021-07-17T14:54:49.743204Z",
     "shell.execute_reply": "2021-07-17T14:54:49.740806Z",
     "shell.execute_reply.started": "2021-07-17T14:54:46.371284Z"
    },
    "tags": []
   },
   "outputs": [
    {
     "name": "stdout",
     "output_type": "stream",
     "text": [
      "CPU times: user 1.03 s, sys: 2.24 s, total: 3.27 s\n",
      "Wall time: 3.36 s\n"
     ]
    }
   ],
   "source": [
    "def load_pickled_model():\n",
    "    with open('model.pkl', \"rb\") as f_in:\n",
    "        model = pickle.loads(f_in.read())\n",
    "\n",
    "%time x = [load_pickled_model() for _ in range(10)]"
   ]
  },
  {
   "cell_type": "code",
   "execution_count": null,
   "id": "8655c56f",
   "metadata": {},
   "outputs": [],
   "source": []
  }
 ],
 "metadata": {
  "kernelspec": {
   "display_name": "Python 3",
   "language": "python",
   "name": "python3"
  },
  "language_info": {
   "codemirror_mode": {
    "name": "ipython",
    "version": 3
   },
   "file_extension": ".py",
   "mimetype": "text/x-python",
   "name": "python",
   "nbconvert_exporter": "python",
   "pygments_lexer": "ipython3",
   "version": "3.8.8"
  }
 },
 "nbformat": 4,
 "nbformat_minor": 5
}
